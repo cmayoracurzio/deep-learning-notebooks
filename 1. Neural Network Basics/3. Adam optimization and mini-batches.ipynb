{
 "cells": [
  {
   "cell_type": "markdown",
   "metadata": {},
   "source": [
    "# Regression Neural Network with Adam optimization and mini-batches\n",
    "\n",
    "The following project implements a neural network to predict a quantitative measure of diabetes progression. For context:\n",
    "\n",
    "- Dataset used: https://scikit-learn.org/stable/datasets/toy_dataset.html#diabetes-dataset\n",
    "- Activation function for output layer: None (since this is a regression problem, the output layer can be linear regression)\n",
    "- Activation function for hidden layers: ReLU\n",
    "- Cost function: calculated using Mean Squared Error (MSE)\n",
    "- Optimization method: Adam (gradient descent + momentum + RMSprop) + mini batches"
   ]
  },
  {
   "cell_type": "code",
   "execution_count": 2,
   "metadata": {},
   "outputs": [],
   "source": [
    "import numpy as np\n",
    "import sklearn.datasets\n",
    "import sklearn.model_selection\n",
    "import sklearn.preprocessing\n",
    "import matplotlib.pyplot as plt\n",
    "import sklearn.metrics\n",
    "\n",
    "%matplotlib inline\n",
    "\n",
    "%load_ext autoreload\n",
    "%autoreload 2"
   ]
  },
  {
   "cell_type": "markdown",
   "metadata": {},
   "source": [
    "## Data preparation\n",
    "\n",
    "- Import data\n",
    "- Process the data (e.g., standardize features, reshape arrays)\n",
    "- Split data into training set and testing set"
   ]
  },
  {
   "cell_type": "code",
   "execution_count": 3,
   "metadata": {},
   "outputs": [
    {
     "name": "stdout",
     "output_type": "stream",
     "text": [
      "Shape of X_train: (10, 309)\n",
      "Shape of Y_train: (1, 309)\n",
      "Shape of X_test: (10, 133)\n",
      "Shape of Y_test: (1, 133)\n"
     ]
    }
   ],
   "source": [
    "dataset = sklearn.datasets.load_diabetes()\n",
    "\n",
    "# Flatten 8x8 features per digit\n",
    "X = dataset.data.reshape(dataset.data.shape[0],-1)\n",
    "\n",
    "# Standardize feature values\n",
    "scaler = sklearn.preprocessing.StandardScaler()\n",
    "X = scaler.fit_transform(X)\n",
    "\n",
    "# Convert target to binary since we are only interested in classifying 5 versus not 5\n",
    "Y = dataset.target.reshape((dataset.target.shape[0],1))\n",
    "\n",
    "# Split data into training and testing\n",
    "X_train,X_test,Y_train,Y_test = sklearn.model_selection.train_test_split(X,Y,test_size=0.3,random_state=11)\n",
    "\n",
    "X_train = X_train.T\n",
    "Y_train = Y_train.T\n",
    "X_test = X_test.T\n",
    "Y_test = Y_test.T\n",
    "print(\"Shape of X_train:\",X_train.shape)\n",
    "print(\"Shape of Y_train:\",Y_train.shape)\n",
    "print(\"Shape of X_test:\",X_test.shape)\n",
    "print(\"Shape of Y_test:\",Y_test.shape)"
   ]
  },
  {
   "cell_type": "markdown",
   "metadata": {},
   "source": [
    "## Mini-batch creation"
   ]
  },
  {
   "cell_type": "code",
   "execution_count": 4,
   "metadata": {},
   "outputs": [],
   "source": [
    "def create_mini_batches(X:np.ndarray, Y:np.ndarray, mini_batch_size:int, seed:int) -> list:\n",
    "    \"\"\"\n",
    "    Create mini-batches from the data.\n",
    "    \n",
    "    Parameters:\n",
    "    - X: Training data\n",
    "    - y: Target values\n",
    "    - mini_batch_size: Desired mini-batch size\n",
    "    - seed: Integer used to randomize the shuffling\n",
    "\n",
    "    Returns:\n",
    "    List of mini-batches\n",
    "    \"\"\"\n",
    "    np.random.seed(seed) # To randomize shuffling\n",
    "    m = X.shape[1]  # Number of training examples\n",
    "\n",
    "    # Shuffle the data\n",
    "    permutations = list(np.random.permutation(m))\n",
    "    X_shuffled = X[:,permutations]\n",
    "    Y_shuffled = Y[:,permutations].reshape((1, m))\n",
    "\n",
    "    # Partition\n",
    "    mini_batches = []\n",
    "    num_complete_batches = m // mini_batch_size  # Number of complete batches\n",
    "    \n",
    "    for i in range(num_complete_batches):\n",
    "        mini_batch_X = X_shuffled[:, i * mini_batch_size : (i + 1) * mini_batch_size]\n",
    "        mini_batch_y = Y_shuffled[:, i * mini_batch_size : (i + 1) * mini_batch_size]\n",
    "        mini_batches.append((mini_batch_X, mini_batch_y))\n",
    "    \n",
    "    # Handling the end case (last mini-batch < mini_batch_size)\n",
    "    if m % mini_batch_size != 0:\n",
    "        mini_batch_X = X_shuffled[:, num_complete_batches * mini_batch_size :]\n",
    "        mini_batch_y = Y_shuffled[:, num_complete_batches * mini_batch_size :]\n",
    "        mini_batches.append((mini_batch_X, mini_batch_y))\n",
    "    \n",
    "    return mini_batches"
   ]
  },
  {
   "cell_type": "markdown",
   "metadata": {},
   "source": [
    "## Model building blocks\n",
    "\n",
    "- Initialize parameters\n",
    "- Initialize Adam parameters\n",
    "- Forward propagation\n",
    "- Compute cost\n",
    "- Backward propagation\n",
    "- Update parameters (including Adam parameters)"
   ]
  },
  {
   "cell_type": "code",
   "execution_count": 5,
   "metadata": {},
   "outputs": [],
   "source": [
    "def initialize_parameters(layer_dimensions:list) -> dict:\n",
    "    \"\"\"\n",
    "    Initializes parameters (weights and biases) for a neural network of given dimensions.\n",
    "\n",
    "    Arguments:\n",
    "    ---\n",
    "    - layer_dimensions: list containing the dimensions of each layer in the network\n",
    "\n",
    "    Returns:\n",
    "    ---\n",
    "    - parameters: dictionary containing parameters \"W1\", \"b1\", ..., \"WL\", \"bL\":\n",
    "        - Wl: weight matrix of shape (layer_dims[l], layer_dims[l-1])\n",
    "        - bl: bias vector of shape (layer_dims[l], 1)\n",
    "    \"\"\"\n",
    "    parameters = {}\n",
    "    L = len(layer_dimensions)\n",
    "\n",
    "    for l in range(1, L):\n",
    "        parameters[f\"W{l}\"] = np.random.randn(layer_dimensions[l], layer_dimensions[l-1]) * 0.01\n",
    "        parameters[f\"b{l}\"] = np.zeros((layer_dimensions[l], 1))\n",
    "\n",
    "    return parameters"
   ]
  },
  {
   "cell_type": "code",
   "execution_count": 6,
   "metadata": {},
   "outputs": [],
   "source": [
    "def initialize_adam(parameters:dict) -> tuple[dict,dict]:\n",
    "    \"\"\"\n",
    "    Initializes Adam optimizer parameters v and s as two dictionaries.\n",
    "    \n",
    "    Arguments:\n",
    "    ---\n",
    "    - parameters: dictionary containing parameters \"W1\", \"b1\", ..., \"WL\", \"bL\":\n",
    "        - Wl: weight matrix of shape (layer_dims[l], layer_dims[l-1])\n",
    "        - bl: bias vector of shape (layer_dims[l], 1)\n",
    "    \n",
    "    Returns:\n",
    "    ---\n",
    "    - v: dictionary containing the exponentially weighted average of the gradient. Initialized with zeros.\n",
    "    - s: dictionary containing the exponentially weighted average of the squared gradient. Initialized with zeros.\n",
    "    \"\"\"\n",
    "    L = len(parameters) // 2\n",
    "    v = {}\n",
    "    s = {}\n",
    "\n",
    "    for l in range(1, L + 1):\n",
    "        v[f\"dW{l}\"] = np.zeros(parameters[f\"W{l}\"].shape)\n",
    "        v[f\"db{l}\"] = np.zeros(parameters[f\"b{l}\"].shape)\n",
    "        s[f\"dW{l}\"] = np.zeros(parameters[f\"W{l}\"].shape)\n",
    "        s[f\"db{l}\"] = np.zeros(parameters[f\"b{l}\"].shape)\n",
    "\n",
    "    return v, s"
   ]
  },
  {
   "cell_type": "code",
   "execution_count": 7,
   "metadata": {},
   "outputs": [],
   "source": [
    "def relu(z:np.ndarray) -> np.ndarray:\n",
    "    return np.maximum(0, z)\n",
    "\n",
    "def forward_propagation(X:np.ndarray, parameters:dict) -> tuple[np.ndarray,list]:\n",
    "    \"\"\"\n",
    "    Propagates calculation forward across hidden layers (ReLU activation) and output layer (no activation).\n",
    "\n",
    "    Arguments:\n",
    "    ---\n",
    "    - X: data, numpy array of shape (input size, number of examples)\n",
    "    - parameters: dictionary containing parameters \"W1\", \"b1\", ..., \"WL\", \"bL\":\n",
    "        - Wl: weight matrix of shape (layer_dims[l], layer_dims[l-1])\n",
    "        - bl: bias vector of shape (layer_dims[l], 1)\n",
    "\n",
    "    Returns:\n",
    "    ---\n",
    "    - ZL: value from the output layer (no activation)\n",
    "    - caches: dictionary containing caches for every layer\n",
    "    \"\"\"\n",
    "    caches = {}\n",
    "    A = X\n",
    "    L = len(parameters) // 2\n",
    "\n",
    "    # Forward propagation for hidden layers (ReLU)\n",
    "    for l in range(1, L):\n",
    "        A_prev = A\n",
    "        W = parameters[f\"W{l}\"]\n",
    "        b = parameters[f\"b{l}\"]\n",
    "        Z = np.dot(W,A_prev)+b\n",
    "        A = relu(Z)\n",
    "        caches[f\"A{l-1}\"] = A_prev\n",
    "        caches[f\"W{l}\"] = W\n",
    "        caches[f\"b{l}\"] = b\n",
    "        caches[f\"Z{l}\"] = Z\n",
    "\n",
    "    # Forward propagation for output layer (no activation)\n",
    "    W = parameters[f\"W{L}\"]\n",
    "    b = parameters[f\"b{L}\"]\n",
    "    ZL= np.dot(W,A)+b\n",
    "    caches[f\"A{L-1}\"] = A\n",
    "    caches[f\"W{L}\"] = W\n",
    "    caches[f\"b{L}\"] = b\n",
    "    caches[f\"Z{L}\"] = ZL\n",
    "\n",
    "    return ZL, caches"
   ]
  },
  {
   "cell_type": "code",
   "execution_count": 8,
   "metadata": {},
   "outputs": [],
   "source": [
    "def compute_cost(ZL:np.ndarray, Y:np.ndarray) -> float:\n",
    "    \"\"\"\n",
    "    Computes the cost based on mean squared error.\n",
    "\n",
    "    Arguments:\n",
    "    ---\n",
    "    - ZL: regression vector corresponding to predictions, shape (1, number of examples)\n",
    "    - Y: true values vector, shape (1, number of examples)\n",
    "\n",
    "    Returns:\n",
    "    ---\n",
    "    - cost: floating point number representing the cost\n",
    "    \"\"\"    \n",
    "    m = Y.shape[1]\n",
    "\n",
    "    cost = (1 / m) * np.sum((ZL - Y) ** 2)\n",
    "\n",
    "    # Ensure cost is the dimension we expect (e.g., turns [[17]] into 17)\n",
    "    cost = np.squeeze(cost)\n",
    "\n",
    "    return cost"
   ]
  },
  {
   "cell_type": "code",
   "execution_count": 9,
   "metadata": {},
   "outputs": [],
   "source": [
    "def relu_derivative(x):\n",
    "    return (x > 0).astype(float)\n",
    "\n",
    "def backward_propagation(ZL:np.ndarray, Y:np.ndarray, caches:dict) -> dict:\n",
    "    \"\"\"\n",
    "    Propagates the calculation backwards across output layer (no activation) and hidden layers (ReLU activation).\n",
    "\n",
    "    Arguments:\n",
    "    ---\n",
    "    - ZL: regression vector corresponding to predictions, shape (1, number of examples)\n",
    "    - Y: true values vector, shape (1, number of examples)\n",
    "    - caches: dictionary containing caches for every layer\n",
    "\n",
    "    Returns:\n",
    "    ---\n",
    "    - gradients: dictionary containing gradients with respect to different parameters\n",
    "    \"\"\"\n",
    "    gradients = {}\n",
    "    L = len(caches) // 4\n",
    "    m = ZL.shape[1]\n",
    "\n",
    "    # Reshape Y to have the same shape as ZL\n",
    "    Y = Y.reshape(ZL.shape)\n",
    "\n",
    "    # Backward propagation for output layer (no activation)\n",
    "    dZ = ZL - Y\n",
    "    gradients[f\"dW{L}\"] = np.dot(dZ,caches[f\"A{L-1}\"].T)/m\n",
    "    gradients[f\"db{L}\"] = np.sum(dZ,axis=1,keepdims=True)/m\n",
    "    dA_prev = dZ\n",
    "\n",
    "    # Backward propagation for hidden layers (ReLU activation)\n",
    "    for l in reversed(range(L-1)):\n",
    "        dZ = dA_prev * relu_derivative(caches[f\"Z{l+1}\"])\n",
    "        dA_prev = np.dot(caches[f\"W{l+1}\"].T,dZ)\n",
    "        gradients[f\"dW{l+1}\"] = np.dot(dZ,caches[f\"A{l}\"].T)/m\n",
    "        gradients[f\"db{l+1}\"] = np.sum(dZ,axis=1,keepdims=True)/m\n",
    "\n",
    "    return gradients"
   ]
  },
  {
   "cell_type": "code",
   "execution_count": 10,
   "metadata": {},
   "outputs": [],
   "source": [
    "def update_parameters_with_adam(\n",
    "        parameters:dict,\n",
    "        gradients:dict,\n",
    "        v:dict,\n",
    "        s:dict,\n",
    "        t:int,\n",
    "        learning_rate:float,\n",
    "        beta1:float,\n",
    "        beta2:float,\n",
    "        epsilon:float\n",
    "    ) -> tuple[dict,dict,dict]:\n",
    "    \"\"\"\n",
    "    Update parameters using Adam optimization method.\n",
    "    \n",
    "    Arguments:\n",
    "    ---\n",
    "    - parameters: dictionary containing parameters:\n",
    "        - parameters[f\"W{l}\"] = Wl\n",
    "        - parameters[f\"b{l}\"] = bl\n",
    "    - gradients: dictionary containing gradients for each parameter:\n",
    "        - gradients[f\"dW{l}\"] = dWl\n",
    "        - gradients[f\"db{l}\"] = dbl\n",
    "    - v: Adam variable, moving average of the first gradient, python dictionary\n",
    "    - s: Adam variable, moving average of the squared gradient, python dictionary\n",
    "    - t: Adam variable, counts the number of taken steps\n",
    "    - learning_rate: the learning rate, scalar\n",
    "    - beta1: Exponential decay hyperparameter for the first moment estimates \n",
    "    - beta2: Exponential decay hyperparameter for the second moment estimates \n",
    "    - epsilon: hyperparameter preventing division by zero in Adam updates\n",
    "\n",
    "    Returns:\n",
    "    ---\n",
    "    - parameters: dictionary containing parameters\n",
    "    - v: Adam variable, moving average of the first gradient, python dictionary\n",
    "    - s: Adam variable, moving average of the squared gradient, python dictionary\n",
    "    \"\"\"\n",
    "\n",
    "    L = len(parameters) // 2\n",
    "    v_corrected = {}\n",
    "    s_corrected = {}\n",
    "\n",
    "    # Perform Adam update on all parameters\n",
    "    for l in range(1, L + 1):\n",
    "        # Moving average of the gradients\n",
    "        v[f\"dW{l}\"] = beta1*v[f\"dW{l}\"] + (1-beta1)*gradients['dW' + str(l)]\n",
    "        v[f\"db{l}\"] = beta1*v[f\"db{l}\"] + (1-beta1)*gradients['db' + str(l)]\n",
    "        \n",
    "        # Compute bias-corrected first moment estimate\n",
    "        v_corrected[f\"dW{l}\"] = v[f\"dW{l}\"]/(1-pow(beta1,t))\n",
    "        v_corrected[f\"db{l}\"] = v[f\"db{l}\"]/(1-pow(beta1,t))\n",
    "\n",
    "        # Moving average of the squared gradients\n",
    "        s[f\"dW{l}\"] = beta2*s[f\"dW{l}\"] + (1-beta2)*np.square(gradients['dW' + str(l)])\n",
    "        s[f\"db{l}\"] = beta2*s[f\"db{l}\"] + (1-beta2)*np.square(gradients['db' + str(l)])\n",
    "\n",
    "        # Compute bias-corrected second raw moment estimate\n",
    "        s_corrected[f\"dW{l}\"] = s[f\"dW{l}\"]/(1-pow(beta2,t))\n",
    "        s_corrected[f\"db{l}\"] = s[f\"db{l}\"]/(1-pow(beta2,t))\n",
    "\n",
    "        # Update parameters\n",
    "        parameters[f\"W{l}\"] -= learning_rate*(v_corrected[f\"dW{l}\"]/(np.sqrt(s_corrected[f\"dW{l}\"])+epsilon))\n",
    "        parameters[f\"b{l}\"] -= learning_rate*(v_corrected[f\"db{l}\"]/(np.sqrt(s_corrected[f\"db{l}\"])+epsilon))\n",
    "\n",
    "    return parameters, v, s"
   ]
  },
  {
   "cell_type": "markdown",
   "metadata": {},
   "source": [
    "## Model"
   ]
  },
  {
   "cell_type": "code",
   "execution_count": 11,
   "metadata": {},
   "outputs": [],
   "source": [
    "def model(\n",
    "    X:np.ndarray,\n",
    "    Y:np.ndarray,\n",
    "    layer_dimensions:list,\n",
    "    learning_rate:float = 0.0007,\n",
    "    mini_batch_size:int = 64,\n",
    "    beta1:float = 0.9,\n",
    "    beta2:float = 0.999,\n",
    "    epsilon:float = 1e-8,\n",
    "    num_epochs:int = 5000\n",
    "    ) -> tuple[dict,list,list]:\n",
    "\n",
    "    cost_per_iteration = []          # to keep track of the cost per iteration\n",
    "    cost_per_epoch = []              # to keep track of the cost per epoch\n",
    "    t = 0                            # Initialize counter required for Adam update\n",
    "    seed = 1337                      # Initialize seed to randomize mini-batches\n",
    "\n",
    "    # Initialize parameters\n",
    "    parameters = initialize_parameters(layer_dimensions)\n",
    "\n",
    "    # Initialize Adam parameters\n",
    "    v, s = initialize_adam(parameters)\n",
    "\n",
    "    # Optimization loop for each epoch\n",
    "    for i in range(num_epochs):\n",
    "        \n",
    "        # Define the random minibatches. We increment the seed to reshuffle differently the dataset after each epoch\n",
    "        seed = seed + 1\n",
    "        minibatches = create_mini_batches(X, Y, mini_batch_size, seed)\n",
    "        epoch_cost = 0\n",
    "\n",
    "        for minibatch in minibatches:\n",
    "            # Select a minibatch\n",
    "            (minibatch_X, minibatch_Y) = minibatch\n",
    "            # Forward propagation\n",
    "            ZL, caches = forward_propagation(minibatch_X, parameters)\n",
    "            # Compute cost and add to the cost total\n",
    "            cost = compute_cost(ZL, minibatch_Y)\n",
    "            cost_per_iteration.append(cost)\n",
    "            epoch_cost += cost\n",
    "            # Backward propagation\n",
    "            gradients = backward_propagation(ZL, minibatch_Y, caches)\n",
    "            # Update Adam counter and update parameters\n",
    "            t = t + 1\n",
    "            parameters, v, s  = update_parameters_with_adam(parameters, gradients, v, s, t, learning_rate, beta1, beta2, epsilon)\n",
    "\n",
    "        cost_per_epoch.append(epoch_cost)\n",
    "\n",
    "    return parameters, cost_per_iteration, cost_per_epoch"
   ]
  },
  {
   "cell_type": "code",
   "execution_count": 12,
   "metadata": {},
   "outputs": [],
   "source": [
    "def predict(X:np.ndarray, Y:np.ndarray, parameters:dict) -> np.ndarray:\n",
    "    Y_predicted, _ = forward_propagation(X, parameters)\n",
    "    print(f\"Mean Absolute Error: {np.mean(np.abs(Y_predicted - Y))}\")\n",
    "    return Y_predicted"
   ]
  },
  {
   "cell_type": "markdown",
   "metadata": {},
   "source": [
    "## Results"
   ]
  },
  {
   "cell_type": "code",
   "execution_count": 13,
   "metadata": {},
   "outputs": [],
   "source": [
    "optimized_params, cost_per_iteration, cost_per_epoch = model(X_train,Y_train,layer_dimensions=[10,8,4,1])"
   ]
  },
  {
   "cell_type": "markdown",
   "metadata": {},
   "source": [
    "### Learning curves"
   ]
  },
  {
   "cell_type": "code",
   "execution_count": 14,
   "metadata": {},
   "outputs": [
    {
     "data": {
      "image/png": "[encoded data removed]",
      "text/plain": [
       "<Figure size 1200x500 with 2 Axes>"
      ]
     },
     "metadata": {},
     "output_type": "display_data"
    }
   ],
   "source": [
    "fig, (ax1, ax2) = plt.subplots(1, 2, figsize=(12, 5))\n",
    "\n",
    "ax1.plot(cost_per_iteration)\n",
    "ax1.set_title('Cost per Iteration')\n",
    "ax1.set_xlabel('Iteration')\n",
    "ax1.set_ylabel('Cost')\n",
    "\n",
    "ax2.plot(cost_per_epoch)\n",
    "ax2.set_title('Cost per Epoch')\n",
    "ax2.set_xlabel('Epoch')\n",
    "ax2.set_ylabel('Cost')\n",
    "\n",
    "# Display the plots\n",
    "plt.tight_layout()\n",
    "plt.show()"
   ]
  },
  {
   "cell_type": "markdown",
   "metadata": {},
   "source": [
    "### Mean Absolute Error"
   ]
  },
  {
   "cell_type": "code",
   "execution_count": 16,
   "metadata": {},
   "outputs": [
    {
     "name": "stdout",
     "output_type": "stream",
     "text": [
      "Mean Absolute Error: 39.81631097231564\n",
      "Mean Absolute Error: 45.588477449852725\n"
     ]
    }
   ],
   "source": [
    "Y_predicted_train = predict(X_train, Y_train, optimized_params)\n",
    "Y_predicted_test = predict(X_test,Y_test,optimized_params)"
   ]
  }
 ],
 "metadata": {
  "kernelspec": {
   "display_name": "artificial-intelligence",
   "language": "python",
   "name": "python3"
  },
  "language_info": {
   "codemirror_mode": {
    "name": "ipython",
    "version": 3
   },
   "file_extension": ".py",
   "mimetype": "text/x-python",
   "name": "python",
   "nbconvert_exporter": "python",
   "pygments_lexer": "ipython3",
   "version": "3.11.4"
  },
  "orig_nbformat": 4
 },
 "nbformat": 4,
 "nbformat_minor": 2
}
