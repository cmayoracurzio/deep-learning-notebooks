{
 "cells": [
  {
   "cell_type": "markdown",
   "metadata": {},
   "source": [
    "# Binary Image Classification with a Neural Network\n",
    "\n",
    "The following project implements a neural network with an arbitrary number of layers and dimensions to solve binary image classification of handwritten digits, for which we must identify which ones are 5 and which ones are not. For context:\n",
    "\n",
    "- Dataset used: https://scikit-learn.org/stable/datasets/toy_dataset.html#digits-dataset\n",
    "- Activation function for output layer: sigmoid\n",
    "- Activation function for hidden layers: ReLU \n",
    "- Cost function: calculated using cross-entropy loss"
   ]
  },
  {
   "cell_type": "code",
   "execution_count": 1,
   "metadata": {},
   "outputs": [],
   "source": [
    "import numpy as np\n",
    "import copy\n",
    "import itertools\n",
    "import sklearn.datasets\n",
    "import sklearn.model_selection\n",
    "import sklearn.preprocessing\n",
    "import matplotlib.pyplot as plt\n",
    "import sklearn.metrics\n",
    "\n",
    "%matplotlib inline\n",
    "\n",
    "%load_ext autoreload\n",
    "%autoreload 2"
   ]
  },
  {
   "cell_type": "markdown",
   "metadata": {},
   "source": [
    "## Data preparation"
   ]
  },
  {
   "cell_type": "code",
   "execution_count": 191,
   "metadata": {},
   "outputs": [
    {
     "name": "stdout",
     "output_type": "stream",
     "text": [
      "Shape of X_train: (64, 1257)\n",
      "Shape of Y_train: (1, 1257)\n",
      "Shape of X_test: (64, 540)\n",
      "Shape of Y_test: (1, 540)\n"
     ]
    }
   ],
   "source": [
    "dataset = sklearn.datasets.load_digits()\n",
    "\n",
    "# Flatten 8x8 features per digit\n",
    "X = dataset.images.reshape(dataset.images.shape[0],-1)\n",
    "\n",
    "# Standardize feature values\n",
    "scaler = sklearn.preprocessing.StandardScaler()\n",
    "X = scaler.fit_transform(X)\n",
    "\n",
    "# Convert target to binary since we are only interested in classifying 5 versus not 5\n",
    "Y = np.where(dataset.target == 5, 1, 0).reshape((dataset.target.shape[0],1))\n",
    "\n",
    "# Split data into training and testing\n",
    "X_train,X_test,Y_train,Y_test = sklearn.model_selection.train_test_split(X,Y,test_size=0.3,random_state=11)\n",
    "\n",
    "X_train = X_train.T\n",
    "Y_train = Y_train.T\n",
    "X_test = X_test.T\n",
    "Y_test = Y_test.T\n",
    "print(\"Shape of X_train:\",X_train.shape)\n",
    "print(\"Shape of Y_train:\",Y_train.shape)\n",
    "print(\"Shape of X_test:\",X_test.shape)\n",
    "print(\"Shape of Y_test:\",Y_test.shape)"
   ]
  },
  {
   "cell_type": "markdown",
   "metadata": {},
   "source": [
    "## Model Building Blocks\n",
    "\n",
    "- Initialize parameters\n",
    "- Propagate forward\n",
    "- Compute cost\n",
    "- Propagate backwards\n",
    "- Update parameters"
   ]
  },
  {
   "cell_type": "code",
   "execution_count": 194,
   "metadata": {},
   "outputs": [],
   "source": [
    "def initialize_parameters(layer_dimensions:list) -> dict:\n",
    "    \"\"\"\n",
    "    Initializes parameters (weights and biases) for a neural network of given dimensions.\n",
    "\n",
    "    Arguments:\n",
    "    ---\n",
    "    - layer_dimensions: list containing the dimensions of each layer in the network\n",
    "\n",
    "    Returns:\n",
    "    ---\n",
    "    - parameters: dictionary containing parameters \"W1\", \"b1\", ..., \"WL\", \"bL\":\n",
    "        - Wl: weight matrix of shape (layer_dims[l], layer_dims[l-1])\n",
    "        - bl: bias vector of shape (layer_dims[l], 1)\n",
    "    \"\"\"\n",
    "\n",
    "    parameters = {}\n",
    "    L = len(layer_dimensions)\n",
    "\n",
    "    for l in range(1, L):\n",
    "        parameters['W'+str(l)] = np.random.randn(layer_dimensions[l], layer_dimensions[l-1]) * 0.01\n",
    "        parameters['b'+str(l)] = np.zeros((layer_dimensions[l], 1))\n",
    "        \n",
    "        assert(parameters['W' + str(l)].shape == (layer_dimensions[l], layer_dimensions[l - 1]))\n",
    "        assert(parameters['b' + str(l)].shape == (layer_dimensions[l], 1))\n",
    "\n",
    "    return parameters"
   ]
  },
  {
   "cell_type": "code",
   "execution_count": 195,
   "metadata": {},
   "outputs": [],
   "source": [
    "def sigmoid(Z):\n",
    "    return  1 / (1 + np.exp(-Z))\n",
    "\n",
    "def relu(Z):\n",
    "    return np.maximum(0, Z)\n",
    "\n",
    "def propagate_forward(X:np.ndarray, parameters:dict) -> tuple[np.ndarray,list,list]:\n",
    "    \"\"\"\n",
    "    Propagates calculation forward across hidden layers (ReLU activation) and output layer (sigmoid activation).\n",
    "\n",
    "    Arguments:\n",
    "    ---\n",
    "    - X: data, numpy array of shape (input size, number of examples)\n",
    "    - parameters: dictionary containing parameters \"W1\", \"b1\", ..., \"WL\", \"bL\":\n",
    "        - Wl: weight matrix of shape (layer_dims[l], layer_dims[l-1])\n",
    "        - bl: bias vector of shape (layer_dims[l], 1)\n",
    "\n",
    "    Returns:\n",
    "    ---\n",
    "    - AL: activation value from the output layer\n",
    "    - linear_caches: list of linear caches for every layer\n",
    "    - activation_caches: list of activation caches for every layer\n",
    "    \"\"\"\n",
    "\n",
    "    linear_caches = []\n",
    "    activation_caches = []\n",
    "    A = X\n",
    "    L = len(parameters) // 2\n",
    "\n",
    "    # Forward propagation for hidden layers (ReLU)\n",
    "    for l in range(1, L):\n",
    "        A_prev = A\n",
    "        W = parameters[f\"W{l}\"]\n",
    "        b = parameters[f\"b{l}\"]\n",
    "        Z = np.dot(W,A_prev)+b\n",
    "        A = relu(Z)\n",
    "        linear_caches.append((A_prev, W, b))\n",
    "        activation_caches.append(Z)\n",
    "\n",
    "    # Forward propagation for output layer (sigmoid)\n",
    "    W = parameters[f\"W{L}\"]\n",
    "    b = parameters[f\"b{L}\"]\n",
    "    Z = np.dot(W,A)+b\n",
    "    AL = sigmoid(Z)\n",
    "    linear_caches.append((A, W, b))\n",
    "    activation_caches.append(Z)\n",
    "\n",
    "    return AL, linear_caches, activation_caches"
   ]
  },
  {
   "cell_type": "code",
   "execution_count": 196,
   "metadata": {},
   "outputs": [],
   "source": [
    "def compute_cost(AL:np.ndarray, Y:np.ndarray) -> float:\n",
    "    \"\"\"\n",
    "    Computes the cross-entropy cost.\n",
    "\n",
    "    Arguments:\n",
    "    ---\n",
    "    - AL: probability vector corresponding to label predictions, shape (1, number of examples)\n",
    "    - Y: true \"label\" vector (containing 0 if digit is not five, 1 if digit is five), shape (1, number of examples)\n",
    "\n",
    "    Returns:\n",
    "    ---\n",
    "    - cost: cross-entropy cost    \n",
    "    \"\"\"    \n",
    "    m = Y.shape[1]\n",
    "\n",
    "    cost = -np.sum(np.multiply(np.log(AL),Y) + np.multiply(np.log(1-AL),1-Y))/m\n",
    "\n",
    "    # Ensure cost is the dimension we expect (e.g., turns [[17]] into 17)\n",
    "    cost = np.squeeze(cost)\n",
    "\n",
    "    return cost"
   ]
  },
  {
   "cell_type": "code",
   "execution_count": 197,
   "metadata": {},
   "outputs": [],
   "source": [
    "def sigmoid_backward(dA, Z):    \n",
    "    s = sigmoid(Z)\n",
    "    dZ = dA * s * (1 - s)\n",
    "    return dZ\n",
    "\n",
    "def relu_backward(dA, Z):\n",
    "    # Copy dA\n",
    "    dZ = np.array(dA, copy=True)\n",
    "    # When z <= 0, set dz to 0 as well\n",
    "    dZ[Z <= 0] = 0\n",
    "    return dZ\n",
    "\n",
    "\n",
    "def propagate_backwards(AL, Y, linear_caches:list, activation_caches:list) -> dict:\n",
    "    \"\"\"\n",
    "    Propagates the calculation backwards across output layer (sigmoid activation) and hidden layers (ReLU activation).\n",
    "\n",
    "    Arguments:\n",
    "    ---\n",
    "    - AL: probability vector corresponding to your label predictions, shape (1, number of examples)\n",
    "    - Y: true \"label\" vector (containing 0 if digit is not five, 1 if digit is five), shape (1, number of examples)\n",
    "    - linear_caches: list of linear caches for every layer\n",
    "    - activation_caches: list of activation caches for every layer\n",
    "\n",
    "    Returns:\n",
    "    ---\n",
    "    - gradients: dictionary containing gradients with respect to different parameters\n",
    "    \"\"\"\n",
    "\n",
    "    gradients = {}\n",
    "    L = len(linear_caches)\n",
    "    m = AL.shape[1]\n",
    "\n",
    "    # Reshape Y to have the same shape as AL\n",
    "    Y = Y.reshape(AL.shape)\n",
    "\n",
    "    # Initialize the backpropagation\n",
    "    dAL = - (np.divide(Y, AL) - np.divide(1 - Y, 1 - AL))\n",
    "\n",
    "    # Backward propagation for output layer (sigmoid)\n",
    "    Z = activation_caches[L-1]\n",
    "    dZ = sigmoid_backward(dAL, Z)\n",
    "    A_prev, W, b = linear_caches[L-1]\n",
    "    dW_temp = np.dot(dZ,A_prev.T)/m\n",
    "    db_temp = np.sum(dZ,axis=1,keepdims=True)/m\n",
    "    dA_prev_temp = np.dot(W.T,dZ)\n",
    "    gradients[\"dA\" + str(L-1)] = dA_prev_temp\n",
    "    gradients[\"dW\" + str(L)] = dW_temp\n",
    "    gradients[\"db\" + str(L)] = db_temp\n",
    "\n",
    "    # Backward propagation for hidden layers (ReLU)\n",
    "    for l in reversed(range(L-1)):\n",
    "        Z = activation_caches[l]\n",
    "        dZ = relu_backward(dA_prev_temp, Z)\n",
    "        A_prev, W, b = linear_caches[l]\n",
    "        dW_temp = np.dot(dZ,A_prev.T)/m\n",
    "        db_temp = np.sum(dZ,axis=1,keepdims=True)/m\n",
    "        dA_prev_temp = np.dot(W.T,dZ)\n",
    "        gradients[\"dA\" + str(l)] = dA_prev_temp\n",
    "        gradients[\"dW\" + str(l+1)] = dW_temp\n",
    "        gradients[\"db\" + str(l+1)] = db_temp\n",
    "\n",
    "    return gradients"
   ]
  },
  {
   "cell_type": "code",
   "execution_count": 198,
   "metadata": {},
   "outputs": [],
   "source": [
    "def update_parameters(parameters:dict, gradients:dict, learning_rate:float) -> dict:\n",
    "    \"\"\"\n",
    "    Updates parameters using the gradient descent.\n",
    "\n",
    "    Arguments:\n",
    "    ---\n",
    "    - parameters: dictionary containing parameters\n",
    "    - gradients: dictionary containing gradients\n",
    "    - learning_rate: float representing the learning rate\n",
    "\n",
    "    Returns:\n",
    "    ---\n",
    "    - parameters: dictionary containing updated_parameters\n",
    "        - parameters[\"W\" + str(l)] = ... \n",
    "        - parameters[\"b\" + str(l)] = ...\n",
    "    \"\"\"\n",
    "\n",
    "    parameters = copy.deepcopy(parameters)\n",
    "    L = len(parameters) // 2 # number of layers in the neural network\n",
    "\n",
    "    for l in range(L):\n",
    "        parameters[\"W\" + str(l+1)] = parameters[\"W\" + str(l+1)] - learning_rate*gradients[\"dW\" + str(l+1)]\n",
    "        parameters[\"b\" + str(l+1)] = parameters[\"b\" + str(l+1)] - learning_rate*gradients[\"db\" + str(l+1)]\n",
    "\n",
    "    return parameters"
   ]
  },
  {
   "cell_type": "markdown",
   "metadata": {},
   "source": [
    "## Model"
   ]
  },
  {
   "cell_type": "code",
   "execution_count": 199,
   "metadata": {},
   "outputs": [],
   "source": [
    "def fit(X:np.ndarray, Y:np.ndarray, layer_dimensions:list, learning_rate:float=0.0075, num_iterations:int=3000) -> tuple[dict,list]:\n",
    "    \n",
    "    np.random.seed(42)\n",
    "    costs = []\n",
    "\n",
    "    # Parameters initialization\n",
    "    parameters = initialize_parameters(layer_dimensions)\n",
    "\n",
    "    # Loop (gradient descent)\n",
    "    for i in range(0, num_iterations):\n",
    "\n",
    "        # Forward propagation\n",
    "        AL, linear_caches, activation_caches = propagate_forward(X, parameters)\n",
    "\n",
    "        # Compute cost\n",
    "        cost = compute_cost(AL, Y)\n",
    "        costs.append(cost)\n",
    "\n",
    "        # Backward propagation\n",
    "        gradients = propagate_backwards(AL, Y, linear_caches, activation_caches)\n",
    "\n",
    "        # Update parameters\n",
    "        parameters = update_parameters(parameters, gradients, learning_rate)\n",
    "\n",
    "    return parameters, costs"
   ]
  },
  {
   "cell_type": "code",
   "execution_count": 205,
   "metadata": {},
   "outputs": [],
   "source": [
    "def predict(X:np.ndarray, Y:np.ndarray, parameters:dict) -> np.ndarray:\n",
    "    Y_predicted, _, _ = propagate_forward(X, parameters)\n",
    "    Y_predicted = (Y_predicted>0.5).astype(int)\n",
    "    print(f\"Accuracy: {100 - np.mean(np.abs(Y_predicted - Y)) * 100} %\")\n",
    "    return Y_predicted"
   ]
  },
  {
   "cell_type": "markdown",
   "metadata": {},
   "source": [
    "## Results\n",
    "\n",
    "### Train Accuracy"
   ]
  },
  {
   "cell_type": "code",
   "execution_count": 206,
   "metadata": {},
   "outputs": [
    {
     "name": "stdout",
     "output_type": "stream",
     "text": [
      "Accuracy: 98.56801909307876 %\n"
     ]
    }
   ],
   "source": [
    "params, cost = fit(X_train,Y_train,layer_dimensions=[64,12,1])\n",
    "Y_predicted_train = predict(X_train,Y_train,params)"
   ]
  },
  {
   "cell_type": "markdown",
   "metadata": {},
   "source": [
    "### Test Accuracy and Confusion Matrix"
   ]
  },
  {
   "cell_type": "code",
   "execution_count": 208,
   "metadata": {},
   "outputs": [
    {
     "name": "stdout",
     "output_type": "stream",
     "text": [
      "Accuracy: 99.62962962962963 %\n"
     ]
    }
   ],
   "source": [
    "Y_predicted_test = predict(X_test,Y_test,params)"
   ]
  },
  {
   "cell_type": "code",
   "execution_count": 213,
   "metadata": {},
   "outputs": [
    {
     "data": {
      "image/png": "[encoded data removed]",
      "text/plain": [
       "<Figure size 640x480 with 2 Axes>"
      ]
     },
     "metadata": {},
     "output_type": "display_data"
    }
   ],
   "source": [
    "# Compute confusion matrix\n",
    "confusion_matrix = sklearn.metrics.confusion_matrix(Y_test.flatten(), Y_predicted_test.flatten())\n",
    "\n",
    "# Plot the confusion matrix\n",
    "plt.imshow(confusion_matrix, interpolation='nearest', cmap=plt.cm.Blues)\n",
    "plt.title('Confusion Matrix')\n",
    "plt.ylabel('True label')\n",
    "plt.xlabel('Predicted label')\n",
    "plt.colorbar()\n",
    "\n",
    "labels = ['isNotFive','isFive']\n",
    "tick_marks = np.arange(len(labels))\n",
    "plt.xticks(tick_marks, labels, rotation=45)\n",
    "plt.yticks(tick_marks, labels)\n",
    "\n",
    "for i, j in itertools.product(range(confusion_matrix.shape[0]), range(confusion_matrix.shape[1])):\n",
    "    plt.text(j, i, confusion_matrix[i, j], horizontalalignment=\"center\", color=\"white\" if confusion_matrix[i, j] > confusion_matrix.max() / 2 else \"black\")"
   ]
  }
 ],
 "metadata": {
  "kernelspec": {
   "display_name": "artificial-intelligence",
   "language": "python",
   "name": "python3"
  },
  "language_info": {
   "codemirror_mode": {
    "name": "ipython",
    "version": 3
   },
   "file_extension": ".py",
   "mimetype": "text/x-python",
   "name": "python",
   "nbconvert_exporter": "python",
   "pygments_lexer": "ipython3",
   "version": "3.11.4"
  },
  "orig_nbformat": 4
 },
 "nbformat": 4,
 "nbformat_minor": 2
}
