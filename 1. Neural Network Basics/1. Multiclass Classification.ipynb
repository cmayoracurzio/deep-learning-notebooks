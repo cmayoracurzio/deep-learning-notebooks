{
 "cells": [
  {
   "cell_type": "markdown",
   "metadata": {},
   "source": [
    "# Multiclass Classification with a Neural Network\n",
    "\n",
    "The following project implements a shallow neural network (1 hidden layer of size 4) to solve the \"iris dataset\" multiclass classification problem. We use the softmax function as the activation function for the output layer, and categorical cross-entropy loss for the cost function."
   ]
  },
  {
   "cell_type": "code",
   "execution_count": 4,
   "metadata": {},
   "outputs": [
    {
     "name": "stdout",
     "output_type": "stream",
     "text": [
      "The autoreload extension is already loaded. To reload it, use:\n",
      "  %reload_ext autoreload\n"
     ]
    }
   ],
   "source": [
    "import numpy as np\n",
    "import time\n",
    "import copy\n",
    "import sklearn.datasets\n",
    "import sklearn.model_selection\n",
    "import sklearn.preprocessing\n",
    "import matplotlib.pyplot as plt\n",
    "import sklearn.metrics\n",
    "import itertools\n",
    "\n",
    "%matplotlib inline\n",
    "\n",
    "%load_ext autoreload\n",
    "%autoreload 2"
   ]
  },
  {
   "cell_type": "markdown",
   "metadata": {},
   "source": [
    "## Prepare data"
   ]
  },
  {
   "cell_type": "code",
   "execution_count": 5,
   "metadata": {},
   "outputs": [
    {
     "name": "stdout",
     "output_type": "stream",
     "text": [
      "Shape of X_train:  (4, 105)\n",
      "Shape of Y_train:  (3, 105)\n",
      "Shape of X_test:  (4, 45)\n",
      "Shape of Y_test:  (3, 45)\n"
     ]
    }
   ],
   "source": [
    "dataset = sklearn.datasets.load_iris()\n",
    "X_train,X_test,Y_train,Y_test = sklearn.model_selection.train_test_split(dataset.data,dataset.target,test_size=0.3,random_state=11)\n",
    "\n",
    "# Normalize/standardize the features\n",
    "scaler = sklearn.preprocessing.StandardScaler()\n",
    "X_train = scaler.fit_transform(X_train).T\n",
    "X_test = scaler.transform(X_test).T\n",
    "\n",
    "# One-hot encode the target labels\n",
    "encoder = sklearn.preprocessing.OneHotEncoder(sparse_output=False)\n",
    "Y_train = encoder.fit_transform(Y_train.reshape(-1, 1)).T\n",
    "Y_test = encoder.transform(Y_test.reshape(-1, 1)).T\n",
    "\n",
    "print(\"Shape of X_train: \",X_train.shape)\n",
    "print(\"Shape of Y_train: \",Y_train.shape)\n",
    "print(\"Shape of X_test: \",X_test.shape)\n",
    "print(\"Shape of Y_test: \",Y_test.shape)"
   ]
  },
  {
   "cell_type": "markdown",
   "metadata": {},
   "source": [
    "## Define model building blocks\n",
    "- get_nn_dimensions\n",
    "- initialize_parameters\n",
    "- propagate_forward\n",
    "- compute_cost\n",
    "- propagate_backwards\n",
    "- update_parameters"
   ]
  },
  {
   "cell_type": "code",
   "execution_count": 9,
   "metadata": {},
   "outputs": [],
   "source": [
    "def get_nn_dimensions(X:np.ndarray, Y:np.ndarray) -> tuple[int,int,int]:\n",
    "    \n",
    "    # Input layer size: One neuron per feature in dataset\n",
    "    n_input = X.shape[0]\n",
    "    # Hidden layer size: Four neurons (in this model this is arbitrarily chosen)\n",
    "    n_hidden = 4\n",
    "    # Output layer size: One neuron per feature label\n",
    "    n_output = Y.shape[0]\n",
    "\n",
    "    return n_input, n_hidden, n_output"
   ]
  },
  {
   "cell_type": "code",
   "execution_count": 7,
   "metadata": {},
   "outputs": [],
   "source": [
    "def initialize_parameters(n_input:int, n_hidden:int, n_output:int) -> dict:\n",
    "    \"\"\"\n",
    "    Initializes parameters (weights and biases) for a neural network of 1 hidden layer.\n",
    "\n",
    "    Arguments:\n",
    "    ---\n",
    "    - n_input: size of the input layer\n",
    "    - n_hidden: size of the hidden layer\n",
    "    - n_output: size of the output layer\n",
    "\n",
    "    Returns:\n",
    "    ---\n",
    "    - parameters: dictionary containing parameters:\n",
    "        - W1 - weight matrix of shape (n_hidden, n_input)\n",
    "        - b1 - bias vector of shape (n_hidden, 1)\n",
    "        - W2 - weight matrix of shape (n_output, n_hidden)\n",
    "        - b2 - bias vector of shape (n_output, 1)\n",
    "    \"\"\"\n",
    "\n",
    "    parameters = {\n",
    "        \"W1\": np.random.randn(n_hidden,n_input) * 0.01,\n",
    "        \"b1\": np.zeros((n_hidden,1)),\n",
    "        \"W2\": np.random.randn(n_output,n_hidden) * 0.01,\n",
    "        \"b2\": np.zeros((n_output,1))\n",
    "    }\n",
    "    \n",
    "    return parameters"
   ]
  },
  {
   "cell_type": "code",
   "execution_count": 7,
   "metadata": {},
   "outputs": [],
   "source": [
    "def softmax(z):\n",
    "    exp_z = np.exp(z - np.max(z))\n",
    "    return exp_z / exp_z.sum(axis=0, keepdims=True)"
   ]
  },
  {
   "cell_type": "code",
   "execution_count": 10,
   "metadata": {},
   "outputs": [],
   "source": [
    "def propagate_forward(X:np.ndarray, parameters:dict) -> tuple[np.ndarray,dict]:\n",
    "    \"\"\"\n",
    "    Propagates the calculation forward.\n",
    "\n",
    "    Arguments:\n",
    "    ---\n",
    "    - X: input data of size (n_input, m)\n",
    "    - parameters: dictionary containing parameters\n",
    "\n",
    "    Returns:\n",
    "    ---\n",
    "    - A2: The softmax output of the second activation\n",
    "    - cache: dictionary containing \"Z1\", \"A1\", \"Z2\" and \"A2\"\n",
    "    \"\"\"\n",
    "    W1 = parameters['W1']\n",
    "    b1 = parameters['b1']\n",
    "    W2 = parameters['W2']\n",
    "    b2 = parameters['b2']\n",
    "\n",
    "    Z1 = np.dot(W1,X) + b1\n",
    "    # tanh activation function for hidden layer\n",
    "    A1 = np.tanh(Z1)\n",
    "    Z2 = np.dot(W2,A1) + b2\n",
    "    # Softmax activation function for the output layer\n",
    "    A2 = softmax(Z2)\n",
    "    \n",
    "    assert(A2.shape == (3, X.shape[1]))\n",
    "    \n",
    "    cache = {\n",
    "        \"Z1\": Z1,\n",
    "        \"A1\": A1,\n",
    "        \"Z2\": Z2,\n",
    "        \"A2\": A2\n",
    "    }\n",
    "    \n",
    "    return A2, cache"
   ]
  },
  {
   "cell_type": "code",
   "execution_count": 11,
   "metadata": {},
   "outputs": [],
   "source": [
    "def compute_cost(A2:np.ndarray, Y:np.ndarray) -> float:\n",
    "    \"\"\"\n",
    "    Computes the cross-entropy cost.\n",
    "\n",
    "    Arguments:\n",
    "    ---\n",
    "    - A2: The output of the second activation, of shape (1, number of examples)\n",
    "    - Y: \"true\" labels vector of shape (1, number of examples)\n",
    "\n",
    "    Returns:\n",
    "    ---\n",
    "    - cost: cross-entropy cost    \n",
    "    \"\"\"\n",
    "\n",
    "    # Number of examples\n",
    "    m = Y.shape[1] \n",
    "\n",
    "    # Calculate cost\n",
    "    cost = -np.sum(Y * np.log(A2)) / m\n",
    "\n",
    "    # Ensure cost is the dimension we expect (e.g., turns [[17]] into 17)\n",
    "    cost = float(np.squeeze(cost))\n",
    "    \n",
    "    return cost"
   ]
  },
  {
   "cell_type": "code",
   "execution_count": 12,
   "metadata": {},
   "outputs": [],
   "source": [
    "def propagate_backwards(parameters:dict, cache:dict, X:np.ndarray, Y:np.ndarray) -> dict:\n",
    "    \"\"\"\n",
    "    Propagates the calculation backwards.\n",
    "\n",
    "    Arguments:\n",
    "    ---\n",
    "    - parameters: dictionary containing parameters\n",
    "    - cache: dictionary containing \"Z1\", \"A1\", \"Z2\" and \"A2\"\n",
    "    - X: input data of shape (n_input, number of examples)\n",
    "    - Y: \"true\" labels vector of shape (1, number of examples)\n",
    "\n",
    "    Returns:\n",
    "    ---\n",
    "    - gradients: dictionary containing gradients with respect to different parameters\n",
    "    \"\"\"\n",
    "\n",
    "    m = X.shape[1]\n",
    "\n",
    "    W1 = parameters['W1']\n",
    "    W2 = parameters['W2']\n",
    "    A1 = cache['A1']\n",
    "    A2 = cache['A2']\n",
    "\n",
    "    dZ2 = A2 - Y\n",
    "    dW2 = np.dot(dZ2,A1.T)/m\n",
    "    db2 = np.sum(dZ2,axis=1,keepdims=True)/m\n",
    "    dZ1 = np.dot(W2.T,dZ2)*(1 - np.power(A1, 2))\n",
    "    dW1 = np.dot(dZ1,X.T)/m\n",
    "    db1 = np.sum(dZ1,axis=1,keepdims=True)/m\n",
    "    \n",
    "    gradients = {\n",
    "        \"dW1\": dW1,\n",
    "        \"db1\": db1,\n",
    "        \"dW2\": dW2,\n",
    "        \"db2\": db2\n",
    "    }\n",
    "    \n",
    "    return gradients"
   ]
  },
  {
   "cell_type": "code",
   "execution_count": 13,
   "metadata": {},
   "outputs": [],
   "source": [
    "def update_parameters(parameters:dict, gradients:dict, learning_rate:float) -> dict:\n",
    "    \"\"\"\n",
    "    Updates parameters using the gradient descent.\n",
    "\n",
    "    Arguments:\n",
    "    ---\n",
    "    - parameters: dictionary containing parameters\n",
    "    - gradients: dictionary containing gradients\n",
    "\n",
    "    Returns:\n",
    "    ---\n",
    "    - parameters: dictionary containing updated_parameters\n",
    "    \"\"\"\n",
    "\n",
    "    W1 = copy.deepcopy(parameters['W1'])\n",
    "    b1 = parameters['b1']\n",
    "    W2 = copy.deepcopy(parameters['W2'])\n",
    "    b2 = parameters['b2']\n",
    "\n",
    "    dW1 = gradients['dW1']\n",
    "    db1 = gradients['db1']\n",
    "    dW2 = gradients['dW2']\n",
    "    db2 = gradients['db2']\n",
    "    \n",
    "    # Update rule for each parameter\n",
    "    W1 = W1 - learning_rate*dW1\n",
    "    b1 = b1 - learning_rate*db1\n",
    "    W2 = W2 - learning_rate*dW2\n",
    "    b2 = b2 - learning_rate*db2\n",
    "    \n",
    "    parameters = {\n",
    "        \"W1\": W1,\n",
    "        \"b1\": b1,\n",
    "        \"W2\": W2,\n",
    "        \"b2\": b2\n",
    "    }\n",
    "    \n",
    "    return parameters"
   ]
  },
  {
   "cell_type": "markdown",
   "metadata": {},
   "source": [
    "## Create model (using building blocks)"
   ]
  },
  {
   "cell_type": "code",
   "execution_count": 14,
   "metadata": {},
   "outputs": [],
   "source": [
    "def model(\n",
    "        X_train:np.ndarray,\n",
    "        Y_train:np.ndarray,\n",
    "        X_test:np.ndarray,\n",
    "        Y_test:np.ndarray,\n",
    "        num_iterations:int=20000,\n",
    "        learning_rate:float=0.005\n",
    "    ) -> tuple[np.ndarray,np.ndarray,list,float]:\n",
    "\n",
    "    # Start timer\n",
    "    start_time = time.perf_counter()\n",
    "\n",
    "    # Get dimensions\n",
    "    n_input, n_hidden, n_output = get_nn_dimensions(X_train,Y_train)\n",
    "\n",
    "    # Initialize parameters\n",
    "    np.random.seed(42)\n",
    "    parameters = initialize_parameters(n_input, n_hidden, n_output)\n",
    "    cost = []\n",
    "\n",
    "    # Optimize parameters (gradient descent)\n",
    "    for i in range(0, num_iterations):\n",
    "        A2, cache = propagate_forward(X_train, parameters)\n",
    "        cost.append(compute_cost(A2,Y_train))\n",
    "        gradients = propagate_backwards(parameters, cache, X_train, Y_train)\n",
    "        parameters = update_parameters(parameters, gradients, learning_rate)\n",
    "\n",
    "    # Predict with optimized parameters\n",
    "    Y_pred_train, cache = propagate_forward(X_train, parameters)\n",
    "    Y_pred_test, cache = propagate_forward(X_test, parameters)\n",
    "    Y_pred_train = (Y_pred_train>0.5).astype(int)\n",
    "    Y_pred_test = (Y_pred_test>0.5).astype(int)\n",
    "\n",
    "    # Stop timer and print results\n",
    "    end_time = time.perf_counter()\n",
    "    print(f\"time elapsed: {end_time - start_time} seconds\")\n",
    "    print(f\"train accuracy: {100 - np.mean(np.abs(Y_pred_train - Y_train)) * 100} %\")\n",
    "    print(f\"test accuracy: {100 - np.mean(np.abs(Y_pred_test - Y_test)) * 100} %\")\n",
    "\n",
    "    return Y_pred_train, Y_pred_test, cost, learning_rate"
   ]
  },
  {
   "cell_type": "markdown",
   "metadata": {},
   "source": [
    "## Results"
   ]
  },
  {
   "cell_type": "code",
   "execution_count": 13,
   "metadata": {},
   "outputs": [
    {
     "name": "stdout",
     "output_type": "stream",
     "text": [
      "time elapsed: 1.5616676670033485 seconds\n",
      "train accuracy: 99.36507936507937 %\n",
      "test accuracy: 95.55555555555556 %\n"
     ]
    }
   ],
   "source": [
    "Y_pred_train, Y_pred_test, cost, learning_rate = model(X_train, Y_train, X_test, Y_test)"
   ]
  },
  {
   "cell_type": "markdown",
   "metadata": {},
   "source": [
    "### Confusion Matrix (test data)"
   ]
  },
  {
   "cell_type": "code",
   "execution_count": 14,
   "metadata": {},
   "outputs": [
    {
     "data": {
      "image/png": "[encoded data removed]",
      "text/plain": [
       "<Figure size 640x480 with 2 Axes>"
      ]
     },
     "metadata": {},
     "output_type": "display_data"
    }
   ],
   "source": [
    "# Convert one-hot encoded arrays to class indices\n",
    "y_true_indices = np.argmax(Y_test, axis=0)\n",
    "y_pred_indices = np.argmax(Y_pred_test, axis=0)\n",
    "\n",
    "# Compute confusion matrix\n",
    "confusion_matrix = sklearn.metrics.confusion_matrix(y_true_indices, y_pred_indices)\n",
    "\n",
    "# Plot the confusion matrix\n",
    "plt.imshow(confusion_matrix, interpolation='nearest', cmap=plt.cm.Blues)\n",
    "plt.title('Confusion Matrix (test data)')\n",
    "plt.ylabel('True label')\n",
    "plt.xlabel('Predicted label')\n",
    "plt.colorbar()\n",
    "\n",
    "labels = dataset.target_names\n",
    "tick_marks = np.arange(len(labels))\n",
    "plt.xticks(tick_marks, labels, rotation=45)\n",
    "plt.yticks(tick_marks, labels)\n",
    "\n",
    "for i, j in itertools.product(range(confusion_matrix.shape[0]), range(confusion_matrix.shape[1])):\n",
    "    plt.text(j, i, confusion_matrix[i, j], horizontalalignment=\"center\", color=\"white\" if confusion_matrix[i, j] > confusion_matrix.max() / 2 else \"black\")"
   ]
  },
  {
   "cell_type": "markdown",
   "metadata": {},
   "source": [
    "### Learning curve"
   ]
  },
  {
   "cell_type": "code",
   "execution_count": 15,
   "metadata": {},
   "outputs": [
    {
     "data": {
      "text/plain": [
       "Text(0.5, 1.0, 'Learning rate =0.005')"
      ]
     },
     "execution_count": 15,
     "metadata": {},
     "output_type": "execute_result"
    },
    {
     "data": {
      "image/png": "[encoded data removed]",
      "text/plain": [
       "<Figure size 640x480 with 1 Axes>"
      ]
     },
     "metadata": {},
     "output_type": "display_data"
    }
   ],
   "source": [
    "plt.plot(cost)\n",
    "plt.ylabel('Cost')\n",
    "plt.xlabel('Iterations')\n",
    "plt.title(\"Learning rate =\" + str(learning_rate))"
   ]
  }
 ],
 "metadata": {
  "kernelspec": {
   "display_name": "artificial-intelligence",
   "language": "python",
   "name": "python3"
  },
  "language_info": {
   "codemirror_mode": {
    "name": "ipython",
    "version": 3
   },
   "file_extension": ".py",
   "mimetype": "text/x-python",
   "name": "python",
   "nbconvert_exporter": "python",
   "pygments_lexer": "ipython3",
   "version": "3.11.4"
  },
  "orig_nbformat": 4
 },
 "nbformat": 4,
 "nbformat_minor": 2
}
